{
  "nbformat": 4,
  "nbformat_minor": 0,
  "metadata": {
    "colab": {
      "provenance": []
    },
    "kernelspec": {
      "name": "python3",
      "display_name": "Python 3"
    },
    "language_info": {
      "name": "python"
    }
  },
  "cells": [
    {
      "cell_type": "markdown",
      "source": [
        "[Air Quality Data Set](https://archive.ics.uci.edu/ml/datasets/Air+Quality)"
      ],
      "metadata": {
        "id": "U_WSNY1QxQkn"
      }
    },
    {
      "cell_type": "code",
      "source": [
        "import pandas as pd\n",
        "import matplotlib.pyplot as plt\n",
        "\"\"\"\n",
        "here is a Python function that uses the Pyplot module of the Matplotlib library to create \n",
        "a line plot with multiple lines, labels, and a legend using the air quality dataset from UCI \n",
        "Machine Learning Repository\n",
        "\n",
        "\"\"\"\n",
        "def plot_linechart(file_path):\n",
        "    \"\"\"\n",
        "    This function reads the air quality dataset ( data source UCI Machine Learning Repository),\n",
        "    cleans and prepares the data and creates a line plot using the Pyplot module of Matplotlib.\n",
        "\n",
        "    Parameters: str- File Path\n",
        "\n",
        "    Returns:\n",
        "    None\n",
        "    \"\"\"\n",
        "\n",
        "    \n",
        "    air_quality = pd.read_excel(file_path)\n",
        "    air_quality =air_quality.dropna()\n",
        "\n",
        "    # Select relevant columns\n",
        "    air_quality = air_quality[['Date', 'Time', 'CO(GT)', 'NOx(GT)', 'NO2(GT)']]\n",
        "    \n",
        "    # Merge date and time columns and set as index\n",
        "    # combine them as strings\n",
        "    new_df = pd.to_datetime(air_quality.Date.astype(str) + ' ' +air_quality.Time.astype(str))\n",
        "    # add column to dataframe\n",
        "    air_quality.insert(0,'DateTime', new_df)\n",
        "    \n",
        "    air_quality['DateTime'] = pd.to_numeric(pd.to_datetime(air_quality['DateTime']))\n",
        "\n",
        "    # Drop unused columns\n",
        "    air_quality = air_quality.drop(['Date', 'Time'], axis=1)\n",
        "    \n",
        "    # Create the plot\n",
        "    plt.plot(air_quality.DateTime, air_quality['CO(GT)'], label='CO(GT)')\n",
        "    plt.plot(air_quality.DateTime, air_quality['NOx(GT)'], label='NOx(GT)')\n",
        "    plt.plot(air_quality.DateTime, air_quality['NO2(GT)'], label='NO2(GT)')\n",
        "\n",
        "    # Add labels and title\n",
        "    plt.xlabel('Date')\n",
        "    plt.ylabel('Concentration (mg/m³)')\n",
        "    plt.title('Air Quality in Milan, Italy')\n",
        "\n",
        "    # Add legend\n",
        "    plt.legend()\n",
        "\n",
        "    # Show the plot\n",
        "    plt.show()\n",
        "\n",
        "file_path = \"/content/AirQualityUCI.xlsx\"\n",
        "plot_linechart(file_path)"
      ],
      "metadata": {
        "colab": {
          "base_uri": "https://localhost:8080/",
          "height": 402
        },
        "id": "rWqMH5gfjv7i",
        "outputId": "321c7d61-ff06-491c-b641-5ba808aba6d4"
      },
      "execution_count": 30,
      "outputs": [
        {
          "output_type": "stream",
          "name": "stdout",
          "text": [
            "              DateTime  CO(GT)  NOx(GT)  NO2(GT)\n",
            "0  1078941600000000000     2.6    166.0    113.0\n",
            "1  1078945200000000000     2.0    103.0     92.0\n",
            "2  1078948800000000000     2.2    131.0    114.0\n",
            "3  1078952400000000000     2.2    172.0    122.0\n",
            "4  1078956000000000000     1.6    131.0    116.0\n"
          ]
        },
        {
          "output_type": "display_data",
          "data": {
            "text/plain": [
              "<Figure size 432x288 with 1 Axes>"
            ],
            "image/png": "[encoded data removed]"
          },
          "metadata": {
            "needs_background": "light"
          }
        }
      ]
    },
    {
      "cell_type": "code",
      "source": [],
      "metadata": {
        "id": "f5QtnP8SxPsz"
      },
      "execution_count": null,
      "outputs": []
    },
    {
      "cell_type": "markdown",
      "source": [
        "This function reads the air quality dataset from UCI Machine Learning Repository, cleans and prepares the data, and creates a line plot showing the concentrations of CO(GT), NOx(GT), and NO2(GT) in Milan, Italy, over time."
      ],
      "metadata": {
        "id": "RC-W8dEksrO6"
      }
    },
    {
      "cell_type": "markdown",
      "source": [
        "The resulting plot shows the concentration of each pollutant as a line over time. From this plot, we can draw the conclusion that the concentration of NO2(GT) is generally higher than the other pollutants, with the highest levels occurring in the winter months. We can also see that the concentration of CO(GT) and NOx(GT) are lower and more consistent throughout the year. Overall, this plot provides insight into the air quality in Milan, Italy, and how it varies over time."
      ],
      "metadata": {
        "id": "-eZuU9VDszAQ"
      }
    },
    {
      "cell_type": "code",
      "source": [],
      "metadata": {
        "id": "i5Ow3NFyjv-Q"
      },
      "execution_count": null,
      "outputs": []
    },
    {
      "cell_type": "markdown",
      "source": [
        "##Stacked Bar Chart\n",
        "\n",
        "\n"
      ],
      "metadata": {
        "id": "dnKdfwR5tX2q"
      }
    },
    {
      "cell_type": "code",
      "source": [
        "import pandas as pd\n",
        "import matplotlib.pyplot as plt\n",
        "\n",
        "\n",
        "def draw_Stacked(URL):\n",
        "  \"\"\"\n",
        "  This function reads the air quality dataset ( data source UCI Machine Learning Repository),\n",
        "  cleans and prepares the data and creates a Stacked Bar Chart using the Pyplot module of Matplotlib.\n",
        "\n",
        "  Parameters: str- File Path\n",
        "\n",
        "  Returns:\n",
        "  None\n",
        "  \"\"\"\n",
        "\n",
        "\n",
        "\n",
        "  # Read the air quality dataset\n",
        "  air_quality = pd.read_excel(URL)\n",
        "  air_quality =air_quality.dropna()\n",
        "\n",
        "  # Select relevant columns\n",
        "  air_quality = air_quality[['CO(GT)', 'NOx(GT)', 'NO2(GT)']]\n",
        "\n",
        "  # Replace -200 values with NaN\n",
        "  air_quality = air_quality.replace(-200, pd.NaT)\n",
        "\n",
        "  # Drop missing values\n",
        "  air_quality = air_quality.dropna()\n",
        "\n",
        "  # Calculate mean concentrations by month\n",
        "  air_quality['Month'] = pd.to_datetime(air_quality.index).month\n",
        "  air_quality = air_quality.groupby('Month').mean()\n",
        "\n",
        "  # Create the plot\n",
        "  ax = air_quality.plot(kind='bar', stacked=True)\n",
        "\n",
        "  # Add labels and title\n",
        "  ax.set_xlabel('Month')\n",
        "  ax.set_ylabel('Concentration (mg/m³)')\n",
        "  ax.set_title('Monthly Air Quality in Milan, Italy')\n",
        "\n",
        "  # Show the plot\n",
        "  plt.show()\n",
        "\n",
        "file_path = \"/content/AirQualityUCI.xlsx\"\n",
        "draw_Stacked(file_path)"
      ],
      "metadata": {
        "colab": {
          "base_uri": "https://localhost:8080/",
          "height": 292
        },
        "id": "WgJwM467kwwJ",
        "outputId": "3a07d8e9-18d3-4aa7-fc14-0afb90bc644a"
      },
      "execution_count": 31,
      "outputs": [
        {
          "output_type": "display_data",
          "data": {
            "text/plain": [
              "<Figure size 432x288 with 1 Axes>"
            ],
            "image/png": "[encoded data removed]"
          },
          "metadata": {
            "needs_background": "light"
          }
        }
      ]
    },
    {
      "cell_type": "markdown",
      "source": [
        "I picked this type of graph because it allows us to compare the concentration of multiple variables across different time periods. In this case, we are looking at the concentration of CO(GT), NOx(GT), and NO2(GT) over different months. The stacked bar chart shows us the total concentration of each pollutant, and how it is divided between the three variables. From the graph, we can observe that the concentration of NO2(GT) is consistently higher than the other pollutants throughout the year, and that there is a noticeable increase in all pollutants during the winter months. We can also see that the concentration of CO(GT) and NOx(GT) are relatively low and consistent throughout the year, with the exception of a few spikes. Overall, this graph provides a clear and concise representation of the monthly air quality in Milan, Italy."
      ],
      "metadata": {
        "id": "KjGi92rWuKwO"
      }
    },
    {
      "cell_type": "code",
      "source": [],
      "metadata": {
        "id": "tMW4LYstuL0k"
      },
      "execution_count": null,
      "outputs": []
    },
    {
      "cell_type": "markdown",
      "source": [
        "##Boxplot"
      ],
      "metadata": {
        "id": "laEbh549ukIS"
      }
    },
    {
      "cell_type": "code",
      "source": [
        "import pandas as pd\n",
        "import matplotlib.pyplot as plt\n",
        "\n",
        "def draw_Boxplot(URL):\n",
        "  \"\"\"\n",
        "  This function reads the air quality dataset ( data source UCI Machine Learning Repository),\n",
        "  cleans and prepares the data and creates a Boxplot Chart using the Pyplot module of Matplotlib.\n",
        "\n",
        "  Parameters: str- File Path\n",
        "\n",
        "  Returns:\n",
        "  None\n",
        "  \"\"\"\n",
        "  # Read the air quality dataset\n",
        "  air_quality = pd.read_excel(URL)\n",
        "  air_quality =air_quality.dropna()\n",
        "\n",
        "  # Select relevant columns\n",
        "  air_quality = air_quality[['CO(GT)', 'NOx(GT)', 'NO2(GT)', 'T', 'RH', 'AH']]\n",
        "\n",
        "  # Create the plot\n",
        "  air_quality.boxplot(column=['CO(GT)', 'NOx(GT)', 'NO2(GT)'])\n",
        "\n",
        "  # Add labels and title\n",
        "  plt.xlabel('Pollutants')\n",
        "  plt.ylabel('Concentration (mg/m³)')\n",
        "  plt.title('Distribution of Pollutant Concentrations')\n",
        "\n",
        "  # Show the plot\n",
        "  plt.show()\n",
        "\n",
        "file_path = \"/content/AirQualityUCI.xlsx\"\n",
        "draw_Boxplot(file_path)"
      ],
      "metadata": {
        "colab": {
          "base_uri": "https://localhost:8080/",
          "height": 295
        },
        "id": "NcroKG61uls_",
        "outputId": "26d1ef8d-d6e2-4506-98b3-716a344cd039"
      },
      "execution_count": 36,
      "outputs": [
        {
          "output_type": "display_data",
          "data": {
            "text/plain": [
              "<Figure size 432x288 with 1 Axes>"
            ],
            "image/png": "[encoded data removed]"
          },
          "metadata": {
            "needs_background": "light"
          }
        }
      ]
    },
    {
      "cell_type": "markdown",
      "source": [
        "I picked this type of graph because it allows us to compare the distribution of multiple variables in a single plot. In this case, we are looking at the distribution of three pollutants: CO(GT), NOx(GT), and NO2(GT). The boxplot shows us the median, interquartile range, and outliers for each variable. From the graph, we can observe that the concentration of NO2(GT) has the highest median and the most outliers, indicating that it has a wider range of values and is more likely to have extreme values compared to the other pollutants. We can also see that the concentration of CO(GT) has the lowest median and range, indicating that it is less variable compared to the other pollutants."
      ],
      "metadata": {
        "id": "SwTcQ8cxvymv"
      }
    },
    {
      "cell_type": "code",
      "source": [],
      "metadata": {
        "id": "n-6UvZ_1ulwC"
      },
      "execution_count": null,
      "outputs": []
    },
    {
      "cell_type": "code",
      "source": [],
      "metadata": {
        "id": "1AMdykb-ulzT"
      },
      "execution_count": null,
      "outputs": []
    }
  ]
}